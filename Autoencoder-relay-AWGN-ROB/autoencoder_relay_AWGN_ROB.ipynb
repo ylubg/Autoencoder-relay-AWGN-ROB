{
 "cells": [
  {
   "cell_type": "code",
   "execution_count": 1,
   "metadata": {},
   "outputs": [
    {
     "name": "stderr",
     "output_type": "stream",
     "text": [
      "Using TensorFlow backend.\n"
     ]
    }
   ],
   "source": [
    "# importing libs\n",
    "import numpy as np\n",
    "import tensorflow as tf\n",
    "import keras\n",
    "from keras.layers import Input, Dense, GaussianNoise,Lambda,Dropout\n",
    "from keras.models import Model\n",
    "from keras.models import Sequential\n",
    "from keras import regularizers\n",
    "from keras.layers.normalization import BatchNormalization\n",
    "from keras.optimizers import Adam,SGD\n",
    "from keras import backend as K"
   ]
  },
  {
   "cell_type": "code",
   "execution_count": 2,
   "metadata": {},
   "outputs": [],
   "source": [
    "# two-stage training autoencoder for the relay network\n",
    "# first, S-R link traing, to determine the source encoding and relay decoding. This is done using another notebook file in the folder. The file is named \"autoencoder_SRlink_ROB.ipynb\"\n",
    "# second, fix the source encoding and relay decoding and train the whole system, to determine the relay encoding and destination decoding\n",
    "# the relay does not make hard decision, instead, it directly encodes the soft info (the output of the softmax layer)\n",
    "# this is for n = 8"
   ]
  },
  {
   "cell_type": "code",
   "execution_count": 3,
   "metadata": {},
   "outputs": [],
   "source": [
    "# for reproducing reslut\n",
    "from numpy.random import seed\n",
    "seed(1)\n",
    "from tensorflow import set_random_seed\n",
    "set_random_seed(3)"
   ]
  },
  {
   "cell_type": "code",
   "execution_count": 4,
   "metadata": {},
   "outputs": [
    {
     "name": "stdout",
     "output_type": "stream",
     "text": [
      "M: 256 k: 8 n: 8 R: 1.0\n"
     ]
    }
   ],
   "source": [
    "# defining parameters\n",
    "# n = n_channel \n",
    "# k = log2(M)  \n",
    "M = 2**8\n",
    "k = np.log2(M)\n",
    "k = int(k)\n",
    "n_channel = 8\n",
    "R = k/n_channel\n",
    "print ('M:',M,'k:',k,'n:',n_channel,'R:',R)"
   ]
  },
  {
   "cell_type": "code",
   "execution_count": 5,
   "metadata": {},
   "outputs": [],
   "source": [
    "#generating data of size N\n",
    "N = 8000\n",
    "label = np.random.randint(M,size=N)"
   ]
  },
  {
   "cell_type": "code",
   "execution_count": 6,
   "metadata": {},
   "outputs": [],
   "source": [
    "# creating one hot encoded vectors\n",
    "data = []\n",
    "for i in label:\n",
    "    temp = np.zeros(M)\n",
    "    temp[i] = 1\n",
    "    data.append(temp)"
   ]
  },
  {
   "cell_type": "code",
   "execution_count": 7,
   "metadata": {},
   "outputs": [
    {
     "name": "stdout",
     "output_type": "stream",
     "text": [
      "(8000, 256)\n"
     ]
    }
   ],
   "source": [
    "# checking data shape\n",
    "data = np.array(data)\n",
    "print (data.shape)"
   ]
  },
  {
   "cell_type": "code",
   "execution_count": 8,
   "metadata": {
    "scrolled": true
   },
   "outputs": [
    {
     "name": "stdout",
     "output_type": "stream",
     "text": [
      "25 [0. 0. 0. 0. 0. 0. 0. 0. 0. 0. 0. 0. 0. 0. 0. 0. 0. 0. 0. 0. 0. 0. 0. 0.\n",
      " 0. 1. 0. 0. 0. 0. 0. 0. 0. 0. 0. 0. 0. 0. 0. 0. 0. 0. 0. 0. 0. 0. 0. 0.\n",
      " 0. 0. 0. 0. 0. 0. 0. 0. 0. 0. 0. 0. 0. 0. 0. 0. 0. 0. 0. 0. 0. 0. 0. 0.\n",
      " 0. 0. 0. 0. 0. 0. 0. 0. 0. 0. 0. 0. 0. 0. 0. 0. 0. 0. 0. 0. 0. 0. 0. 0.\n",
      " 0. 0. 0. 0. 0. 0. 0. 0. 0. 0. 0. 0. 0. 0. 0. 0. 0. 0. 0. 0. 0. 0. 0. 0.\n",
      " 0. 0. 0. 0. 0. 0. 0. 0. 0. 0. 0. 0. 0. 0. 0. 0. 0. 0. 0. 0. 0. 0. 0. 0.\n",
      " 0. 0. 0. 0. 0. 0. 0. 0. 0. 0. 0. 0. 0. 0. 0. 0. 0. 0. 0. 0. 0. 0. 0. 0.\n",
      " 0. 0. 0. 0. 0. 0. 0. 0. 0. 0. 0. 0. 0. 0. 0. 0. 0. 0. 0. 0. 0. 0. 0. 0.\n",
      " 0. 0. 0. 0. 0. 0. 0. 0. 0. 0. 0. 0. 0. 0. 0. 0. 0. 0. 0. 0. 0. 0. 0. 0.\n",
      " 0. 0. 0. 0. 0. 0. 0. 0. 0. 0. 0. 0. 0. 0. 0. 0. 0. 0. 0. 0. 0. 0. 0. 0.\n",
      " 0. 0. 0. 0. 0. 0. 0. 0. 0. 0. 0. 0. 0. 0. 0. 0.]\n",
      "212 [0. 0. 0. 0. 0. 0. 0. 0. 0. 0. 0. 0. 0. 0. 0. 0. 0. 0. 0. 0. 0. 0. 0. 0.\n",
      " 0. 0. 0. 0. 0. 0. 0. 0. 0. 0. 0. 0. 0. 0. 0. 0. 0. 0. 0. 0. 0. 0. 0. 0.\n",
      " 0. 0. 0. 0. 0. 0. 0. 0. 0. 0. 0. 0. 0. 0. 0. 0. 0. 0. 0. 0. 0. 0. 0. 0.\n",
      " 0. 0. 0. 0. 0. 0. 0. 0. 0. 0. 0. 0. 0. 0. 0. 0. 0. 0. 0. 0. 0. 0. 0. 0.\n",
      " 0. 0. 0. 0. 0. 0. 0. 0. 0. 0. 0. 0. 0. 0. 0. 0. 0. 0. 0. 0. 0. 0. 0. 0.\n",
      " 0. 0. 0. 0. 0. 0. 0. 0. 0. 0. 0. 0. 0. 0. 0. 0. 0. 0. 0. 0. 0. 0. 0. 0.\n",
      " 0. 0. 0. 0. 0. 0. 0. 0. 0. 0. 0. 0. 0. 0. 0. 0. 0. 0. 0. 0. 0. 0. 0. 0.\n",
      " 0. 0. 0. 0. 0. 0. 0. 0. 0. 0. 0. 0. 0. 0. 0. 0. 0. 0. 0. 0. 0. 0. 0. 0.\n",
      " 0. 0. 0. 0. 0. 0. 0. 0. 0. 0. 0. 0. 0. 0. 0. 0. 0. 0. 0. 0. 1. 0. 0. 0.\n",
      " 0. 0. 0. 0. 0. 0. 0. 0. 0. 0. 0. 0. 0. 0. 0. 0. 0. 0. 0. 0. 0. 0. 0. 0.\n",
      " 0. 0. 0. 0. 0. 0. 0. 0. 0. 0. 0. 0. 0. 0. 0. 0.]\n",
      "61 [0. 0. 0. 0. 0. 0. 0. 0. 0. 0. 0. 0. 0. 0. 0. 0. 0. 0. 0. 0. 0. 0. 0. 0.\n",
      " 0. 0. 0. 0. 0. 0. 0. 0. 0. 0. 0. 0. 0. 0. 0. 0. 0. 0. 0. 0. 0. 0. 0. 0.\n",
      " 0. 0. 0. 0. 0. 0. 0. 0. 0. 0. 0. 0. 0. 1. 0. 0. 0. 0. 0. 0. 0. 0. 0. 0.\n",
      " 0. 0. 0. 0. 0. 0. 0. 0. 0. 0. 0. 0. 0. 0. 0. 0. 0. 0. 0. 0. 0. 0. 0. 0.\n",
      " 0. 0. 0. 0. 0. 0. 0. 0. 0. 0. 0. 0. 0. 0. 0. 0. 0. 0. 0. 0. 0. 0. 0. 0.\n",
      " 0. 0. 0. 0. 0. 0. 0. 0. 0. 0. 0. 0. 0. 0. 0. 0. 0. 0. 0. 0. 0. 0. 0. 0.\n",
      " 0. 0. 0. 0. 0. 0. 0. 0. 0. 0. 0. 0. 0. 0. 0. 0. 0. 0. 0. 0. 0. 0. 0. 0.\n",
      " 0. 0. 0. 0. 0. 0. 0. 0. 0. 0. 0. 0. 0. 0. 0. 0. 0. 0. 0. 0. 0. 0. 0. 0.\n",
      " 0. 0. 0. 0. 0. 0. 0. 0. 0. 0. 0. 0. 0. 0. 0. 0. 0. 0. 0. 0. 0. 0. 0. 0.\n",
      " 0. 0. 0. 0. 0. 0. 0. 0. 0. 0. 0. 0. 0. 0. 0. 0. 0. 0. 0. 0. 0. 0. 0. 0.\n",
      " 0. 0. 0. 0. 0. 0. 0. 0. 0. 0. 0. 0. 0. 0. 0. 0.]\n",
      "3 [0. 0. 0. 1. 0. 0. 0. 0. 0. 0. 0. 0. 0. 0. 0. 0. 0. 0. 0. 0. 0. 0. 0. 0.\n",
      " 0. 0. 0. 0. 0. 0. 0. 0. 0. 0. 0. 0. 0. 0. 0. 0. 0. 0. 0. 0. 0. 0. 0. 0.\n",
      " 0. 0. 0. 0. 0. 0. 0. 0. 0. 0. 0. 0. 0. 0. 0. 0. 0. 0. 0. 0. 0. 0. 0. 0.\n",
      " 0. 0. 0. 0. 0. 0. 0. 0. 0. 0. 0. 0. 0. 0. 0. 0. 0. 0. 0. 0. 0. 0. 0. 0.\n",
      " 0. 0. 0. 0. 0. 0. 0. 0. 0. 0. 0. 0. 0. 0. 0. 0. 0. 0. 0. 0. 0. 0. 0. 0.\n",
      " 0. 0. 0. 0. 0. 0. 0. 0. 0. 0. 0. 0. 0. 0. 0. 0. 0. 0. 0. 0. 0. 0. 0. 0.\n",
      " 0. 0. 0. 0. 0. 0. 0. 0. 0. 0. 0. 0. 0. 0. 0. 0. 0. 0. 0. 0. 0. 0. 0. 0.\n",
      " 0. 0. 0. 0. 0. 0. 0. 0. 0. 0. 0. 0. 0. 0. 0. 0. 0. 0. 0. 0. 0. 0. 0. 0.\n",
      " 0. 0. 0. 0. 0. 0. 0. 0. 0. 0. 0. 0. 0. 0. 0. 0. 0. 0. 0. 0. 0. 0. 0. 0.\n",
      " 0. 0. 0. 0. 0. 0. 0. 0. 0. 0. 0. 0. 0. 0. 0. 0. 0. 0. 0. 0. 0. 0. 0. 0.\n",
      " 0. 0. 0. 0. 0. 0. 0. 0. 0. 0. 0. 0. 0. 0. 0. 0.]\n",
      "153 [0. 0. 0. 0. 0. 0. 0. 0. 0. 0. 0. 0. 0. 0. 0. 0. 0. 0. 0. 0. 0. 0. 0. 0.\n",
      " 0. 0. 0. 0. 0. 0. 0. 0. 0. 0. 0. 0. 0. 0. 0. 0. 0. 0. 0. 0. 0. 0. 0. 0.\n",
      " 0. 0. 0. 0. 0. 0. 0. 0. 0. 0. 0. 0. 0. 0. 0. 0. 0. 0. 0. 0. 0. 0. 0. 0.\n",
      " 0. 0. 0. 0. 0. 0. 0. 0. 0. 0. 0. 0. 0. 0. 0. 0. 0. 0. 0. 0. 0. 0. 0. 0.\n",
      " 0. 0. 0. 0. 0. 0. 0. 0. 0. 0. 0. 0. 0. 0. 0. 0. 0. 0. 0. 0. 0. 0. 0. 0.\n",
      " 0. 0. 0. 0. 0. 0. 0. 0. 0. 0. 0. 0. 0. 0. 0. 0. 0. 0. 0. 0. 0. 0. 0. 0.\n",
      " 0. 0. 0. 0. 0. 0. 0. 0. 0. 1. 0. 0. 0. 0. 0. 0. 0. 0. 0. 0. 0. 0. 0. 0.\n",
      " 0. 0. 0. 0. 0. 0. 0. 0. 0. 0. 0. 0. 0. 0. 0. 0. 0. 0. 0. 0. 0. 0. 0. 0.\n",
      " 0. 0. 0. 0. 0. 0. 0. 0. 0. 0. 0. 0. 0. 0. 0. 0. 0. 0. 0. 0. 0. 0. 0. 0.\n",
      " 0. 0. 0. 0. 0. 0. 0. 0. 0. 0. 0. 0. 0. 0. 0. 0. 0. 0. 0. 0. 0. 0. 0. 0.\n",
      " 0. 0. 0. 0. 0. 0. 0. 0. 0. 0. 0. 0. 0. 0. 0. 0.]\n",
      "23 [0. 0. 0. 0. 0. 0. 0. 0. 0. 0. 0. 0. 0. 0. 0. 0. 0. 0. 0. 0. 0. 0. 0. 1.\n",
      " 0. 0. 0. 0. 0. 0. 0. 0. 0. 0. 0. 0. 0. 0. 0. 0. 0. 0. 0. 0. 0. 0. 0. 0.\n",
      " 0. 0. 0. 0. 0. 0. 0. 0. 0. 0. 0. 0. 0. 0. 0. 0. 0. 0. 0. 0. 0. 0. 0. 0.\n",
      " 0. 0. 0. 0. 0. 0. 0. 0. 0. 0. 0. 0. 0. 0. 0. 0. 0. 0. 0. 0. 0. 0. 0. 0.\n",
      " 0. 0. 0. 0. 0. 0. 0. 0. 0. 0. 0. 0. 0. 0. 0. 0. 0. 0. 0. 0. 0. 0. 0. 0.\n",
      " 0. 0. 0. 0. 0. 0. 0. 0. 0. 0. 0. 0. 0. 0. 0. 0. 0. 0. 0. 0. 0. 0. 0. 0.\n",
      " 0. 0. 0. 0. 0. 0. 0. 0. 0. 0. 0. 0. 0. 0. 0. 0. 0. 0. 0. 0. 0. 0. 0. 0.\n",
      " 0. 0. 0. 0. 0. 0. 0. 0. 0. 0. 0. 0. 0. 0. 0. 0. 0. 0. 0. 0. 0. 0. 0. 0.\n",
      " 0. 0. 0. 0. 0. 0. 0. 0. 0. 0. 0. 0. 0. 0. 0. 0. 0. 0. 0. 0. 0. 0. 0. 0.\n",
      " 0. 0. 0. 0. 0. 0. 0. 0. 0. 0. 0. 0. 0. 0. 0. 0. 0. 0. 0. 0. 0. 0. 0. 0.\n",
      " 0. 0. 0. 0. 0. 0. 0. 0. 0. 0. 0. 0. 0. 0. 0. 0.]\n",
      "76 [0. 0. 0. 0. 0. 0. 0. 0. 0. 0. 0. 0. 0. 0. 0. 0. 0. 0. 0. 0. 0. 0. 0. 0.\n",
      " 0. 0. 0. 0. 0. 0. 0. 0. 0. 0. 0. 0. 0. 0. 0. 0. 0. 0. 0. 0. 0. 0. 0. 0.\n",
      " 0. 0. 0. 0. 0. 0. 0. 0. 0. 0. 0. 0. 0. 0. 0. 0. 0. 0. 0. 0. 0. 0. 0. 0.\n",
      " 0. 0. 0. 0. 1. 0. 0. 0. 0. 0. 0. 0. 0. 0. 0. 0. 0. 0. 0. 0. 0. 0. 0. 0.\n",
      " 0. 0. 0. 0. 0. 0. 0. 0. 0. 0. 0. 0. 0. 0. 0. 0. 0. 0. 0. 0. 0. 0. 0. 0.\n",
      " 0. 0. 0. 0. 0. 0. 0. 0. 0. 0. 0. 0. 0. 0. 0. 0. 0. 0. 0. 0. 0. 0. 0. 0.\n",
      " 0. 0. 0. 0. 0. 0. 0. 0. 0. 0. 0. 0. 0. 0. 0. 0. 0. 0. 0. 0. 0. 0. 0. 0.\n",
      " 0. 0. 0. 0. 0. 0. 0. 0. 0. 0. 0. 0. 0. 0. 0. 0. 0. 0. 0. 0. 0. 0. 0. 0.\n",
      " 0. 0. 0. 0. 0. 0. 0. 0. 0. 0. 0. 0. 0. 0. 0. 0. 0. 0. 0. 0. 0. 0. 0. 0.\n",
      " 0. 0. 0. 0. 0. 0. 0. 0. 0. 0. 0. 0. 0. 0. 0. 0. 0. 0. 0. 0. 0. 0. 0. 0.\n",
      " 0. 0. 0. 0. 0. 0. 0. 0. 0. 0. 0. 0. 0. 0. 0. 0.]\n",
      "47 [0. 0. 0. 0. 0. 0. 0. 0. 0. 0. 0. 0. 0. 0. 0. 0. 0. 0. 0. 0. 0. 0. 0. 0.\n",
      " 0. 0. 0. 0. 0. 0. 0. 0. 0. 0. 0. 0. 0. 0. 0. 0. 0. 0. 0. 0. 0. 0. 0. 1.\n",
      " 0. 0. 0. 0. 0. 0. 0. 0. 0. 0. 0. 0. 0. 0. 0. 0. 0. 0. 0. 0. 0. 0. 0. 0.\n",
      " 0. 0. 0. 0. 0. 0. 0. 0. 0. 0. 0. 0. 0. 0. 0. 0. 0. 0. 0. 0. 0. 0. 0. 0.\n",
      " 0. 0. 0. 0. 0. 0. 0. 0. 0. 0. 0. 0. 0. 0. 0. 0. 0. 0. 0. 0. 0. 0. 0. 0.\n",
      " 0. 0. 0. 0. 0. 0. 0. 0. 0. 0. 0. 0. 0. 0. 0. 0. 0. 0. 0. 0. 0. 0. 0. 0.\n",
      " 0. 0. 0. 0. 0. 0. 0. 0. 0. 0. 0. 0. 0. 0. 0. 0. 0. 0. 0. 0. 0. 0. 0. 0.\n",
      " 0. 0. 0. 0. 0. 0. 0. 0. 0. 0. 0. 0. 0. 0. 0. 0. 0. 0. 0. 0. 0. 0. 0. 0.\n",
      " 0. 0. 0. 0. 0. 0. 0. 0. 0. 0. 0. 0. 0. 0. 0. 0. 0. 0. 0. 0. 0. 0. 0. 0.\n",
      " 0. 0. 0. 0. 0. 0. 0. 0. 0. 0. 0. 0. 0. 0. 0. 0. 0. 0. 0. 0. 0. 0. 0. 0.\n",
      " 0. 0. 0. 0. 0. 0. 0. 0. 0. 0. 0. 0. 0. 0. 0. 0.]\n",
      "188 [0. 0. 0. 0. 0. 0. 0. 0. 0. 0. 0. 0. 0. 0. 0. 0. 0. 0. 0. 0. 0. 0. 0. 0.\n",
      " 0. 0. 0. 0. 0. 0. 0. 0. 0. 0. 0. 0. 0. 0. 0. 0. 0. 0. 0. 0. 0. 0. 0. 0.\n",
      " 0. 0. 0. 0. 0. 0. 0. 0. 0. 0. 0. 0. 0. 0. 0. 0. 0. 0. 0. 0. 0. 0. 0. 0.\n",
      " 0. 0. 0. 0. 0. 0. 0. 0. 0. 0. 0. 0. 0. 0. 0. 0. 0. 0. 0. 0. 0. 0. 0. 0.\n",
      " 0. 0. 0. 0. 0. 0. 0. 0. 0. 0. 0. 0. 0. 0. 0. 0. 0. 0. 0. 0. 0. 0. 0. 0.\n",
      " 0. 0. 0. 0. 0. 0. 0. 0. 0. 0. 0. 0. 0. 0. 0. 0. 0. 0. 0. 0. 0. 0. 0. 0.\n",
      " 0. 0. 0. 0. 0. 0. 0. 0. 0. 0. 0. 0. 0. 0. 0. 0. 0. 0. 0. 0. 0. 0. 0. 0.\n",
      " 0. 0. 0. 0. 0. 0. 0. 0. 0. 0. 0. 0. 0. 0. 0. 0. 0. 0. 0. 0. 1. 0. 0. 0.\n",
      " 0. 0. 0. 0. 0. 0. 0. 0. 0. 0. 0. 0. 0. 0. 0. 0. 0. 0. 0. 0. 0. 0. 0. 0.\n",
      " 0. 0. 0. 0. 0. 0. 0. 0. 0. 0. 0. 0. 0. 0. 0. 0. 0. 0. 0. 0. 0. 0. 0. 0.\n",
      " 0. 0. 0. 0. 0. 0. 0. 0. 0. 0. 0. 0. 0. 0. 0. 0.]\n"
     ]
    }
   ],
   "source": [
    "# checking generated data with it's label\n",
    "temp_check = [17,23,45,67,89,96,72,250,350]\n",
    "for i in temp_check:\n",
    "    print(label[i],data[i])"
   ]
  },
  {
   "cell_type": "code",
   "execution_count": 9,
   "metadata": {},
   "outputs": [
    {
     "name": "stdout",
     "output_type": "stream",
     "text": [
      "WARNING:tensorflow:From /opt/anaconda3/envs/tf_env/lib/python3.7/site-packages/keras/backend/tensorflow_backend.py:517: The name tf.placeholder is deprecated. Please use tf.compat.v1.placeholder instead.\n",
      "\n",
      "WARNING:tensorflow:From /opt/anaconda3/envs/tf_env/lib/python3.7/site-packages/keras/backend/tensorflow_backend.py:4138: The name tf.random_uniform is deprecated. Please use tf.random.uniform instead.\n",
      "\n",
      "WARNING:tensorflow:From /opt/anaconda3/envs/tf_env/lib/python3.7/site-packages/keras/backend/tensorflow_backend.py:174: The name tf.get_default_session is deprecated. Please use tf.compat.v1.get_default_session instead.\n",
      "\n",
      "WARNING:tensorflow:From /opt/anaconda3/envs/tf_env/lib/python3.7/site-packages/keras/backend/tensorflow_backend.py:181: The name tf.ConfigProto is deprecated. Please use tf.compat.v1.ConfigProto instead.\n",
      "\n",
      "WARNING:tensorflow:From /opt/anaconda3/envs/tf_env/lib/python3.7/site-packages/keras/backend/tensorflow_backend.py:186: The name tf.Session is deprecated. Please use tf.compat.v1.Session instead.\n",
      "\n",
      "WARNING:tensorflow:From /opt/anaconda3/envs/tf_env/lib/python3.7/site-packages/keras/backend/tensorflow_backend.py:190: The name tf.global_variables is deprecated. Please use tf.compat.v1.global_variables instead.\n",
      "\n",
      "WARNING:tensorflow:From /opt/anaconda3/envs/tf_env/lib/python3.7/site-packages/keras/backend/tensorflow_backend.py:199: The name tf.is_variable_initialized is deprecated. Please use tf.compat.v1.is_variable_initialized instead.\n",
      "\n",
      "WARNING:tensorflow:From /opt/anaconda3/envs/tf_env/lib/python3.7/site-packages/keras/backend/tensorflow_backend.py:206: The name tf.variables_initializer is deprecated. Please use tf.compat.v1.variables_initializer instead.\n",
      "\n"
     ]
    },
    {
     "name": "stderr",
     "output_type": "stream",
     "text": [
      "/opt/anaconda3/envs/tf_env/lib/python3.7/site-packages/keras/engine/saving.py:292: UserWarning: No training configuration found in save file: the model was *not* compiled. Compile it manually.\n",
      "  warnings.warn('No training configuration found in save file: '\n"
     ]
    }
   ],
   "source": [
    "# obtained models from the first stage training\n",
    "# load previously trained models for point to point channels\n",
    "from keras.models import load_model\n",
    "encoder_SR = load_model('encoder_SR.h5', custom_objects={'n_channel':n_channel})\n",
    "decoder_SR = load_model('decoder_SR.h5', custom_objects={'n_channel':n_channel})"
   ]
  },
  {
   "cell_type": "code",
   "execution_count": 12,
   "metadata": {},
   "outputs": [],
   "source": [
    "# model for encoding at the relay (soft deicison relay), and detection at the destination\n",
    "input_signal_2 = Input(shape=(M,))\n",
    "encoded_S = encoder_SR(input_signal_2)\n",
    "# mixed SNR training from -2 to 6.5 dB\n",
    "receive_SR = GaussianNoise(np.sqrt(1/(2*R*10.0**(np.random.randint(-2, 6.5) /10.0))))(encoded_S)\n",
    "out_SR = decoder_SR(receive_SR) # output is soft information\n",
    "# ----------------------------------------------------------------------------\n",
    "input_signal_RD = Input(shape=(M,)) # input layer for R-D link \n",
    "encoded_RD = Dense(M, activation='tanh')(input_signal_RD)\n",
    "encoded1_RD = Dense(n_channel, activation='linear')(encoded_RD)\n",
    "encoded2_RD = Lambda(lambda x: np.sqrt(n_channel)*K.l2_normalize(x,axis=1))(encoded1_RD)\n",
    "encode_RD = Model(input_signal_RD, encoded2_RD)\n",
    "signal_RD = encode_RD(out_SR)\n",
    "#-------------------------------------------------------------\n",
    "# R-D link noise\n",
    "receive_RD = GaussianNoise(np.sqrt(1/(2*R*10.0**(np.random.randint(-2, 6.5) /10.0))))(signal_RD)\n",
    "# S-D link, if use the same encoder obtained from the S-R link training\n",
    "receive_SD = GaussianNoise(np.sqrt(1/(2*R*10.0**(np.random.randint(-2, 6.5) /10.0))))(encoded_S)\n",
    "# decoder at the destination\n",
    "input_SD = Input(shape=(n_channel,))\n",
    "input_RD = Input(shape=(n_channel,))\n",
    "preprocess_SD = Dense(n_channel, activation='linear')(input_SD)\n",
    "preprocess_RD = Dense(n_channel, activation='linear')(input_RD)\n",
    "decoded_des = keras.layers.concatenate([preprocess_RD, preprocess_SD])\n",
    "decoded1_des = Dense(M, activation='softmax')(decoded_des) \n",
    "decoder_D = Model(inputs = [input_SD, input_RD], outputs = decoded1_des)\n",
    "decoded_D = decoder_D(inputs = [receive_SD, receive_RD])\n",
    "# model at the destination\n",
    "autoencoder_des = Model(input_signal_2, decoded_D)"
   ]
  },
  {
   "cell_type": "code",
   "execution_count": 13,
   "metadata": {},
   "outputs": [
    {
     "name": "stdout",
     "output_type": "stream",
     "text": [
      "WARNING:tensorflow:From /opt/anaconda3/envs/tf_env/lib/python3.7/site-packages/keras/optimizers.py:790: The name tf.train.Optimizer is deprecated. Please use tf.compat.v1.train.Optimizer instead.\n",
      "\n",
      "WARNING:tensorflow:From /opt/anaconda3/envs/tf_env/lib/python3.7/site-packages/keras/backend/tensorflow_backend.py:3295: The name tf.log is deprecated. Please use tf.math.log instead.\n",
      "\n"
     ]
    }
   ],
   "source": [
    "adam = Adam(lr=0.001)\n",
    "autoencoder_des.compile(optimizer=adam, loss='categorical_crossentropy')"
   ]
  },
  {
   "cell_type": "code",
   "execution_count": 14,
   "metadata": {},
   "outputs": [
    {
     "name": "stdout",
     "output_type": "stream",
     "text": [
      "__________________________________________________________________________________________________\n",
      "Layer (type)                    Output Shape         Param #     Connected to                     \n",
      "==================================================================================================\n",
      "input_9 (InputLayer)            (None, 256)          0                                            \n",
      "__________________________________________________________________________________________________\n",
      "model_2 (Model)                 (None, 8)            2056        input_9[0][0]                    \n",
      "__________________________________________________________________________________________________\n",
      "gaussian_noise_7 (GaussianNoise (None, 8)            0           model_2[3][0]                    \n",
      "__________________________________________________________________________________________________\n",
      "model_3 (Model)                 (None, 256)          2304        gaussian_noise_7[0][0]           \n",
      "__________________________________________________________________________________________________\n",
      "model_7 (Model)                 (None, 8)            67848       model_3[3][0]                    \n",
      "__________________________________________________________________________________________________\n",
      "gaussian_noise_9 (GaussianNoise (None, 8)            0           model_2[3][0]                    \n",
      "__________________________________________________________________________________________________\n",
      "gaussian_noise_8 (GaussianNoise (None, 8)            0           model_7[1][0]                    \n",
      "__________________________________________________________________________________________________\n",
      "model_8 (Model)                 (None, 256)          4496        gaussian_noise_9[0][0]           \n",
      "                                                                 gaussian_noise_8[0][0]           \n",
      "==================================================================================================\n",
      "Total params: 76,704\n",
      "Trainable params: 76,704\n",
      "Non-trainable params: 0\n",
      "__________________________________________________________________________________________________\n",
      "None\n"
     ]
    }
   ],
   "source": [
    "# printing summary of layers and it's trainable parameters \n",
    "print (autoencoder_des.summary())"
   ]
  },
  {
   "cell_type": "code",
   "execution_count": 15,
   "metadata": {},
   "outputs": [
    {
     "name": "stdout",
     "output_type": "stream",
     "text": [
      "WARNING:tensorflow:From /opt/anaconda3/envs/tf_env/lib/python3.7/site-packages/tensorflow_core/python/ops/math_grad.py:1424: where (from tensorflow.python.ops.array_ops) is deprecated and will be removed in a future version.\n",
      "Instructions for updating:\n",
      "Use tf.where in 2.0, which has the same broadcast rule as np.where\n",
      "WARNING:tensorflow:From /opt/anaconda3/envs/tf_env/lib/python3.7/site-packages/keras/backend/tensorflow_backend.py:986: The name tf.assign_add is deprecated. Please use tf.compat.v1.assign_add instead.\n",
      "\n",
      "WARNING:tensorflow:From /opt/anaconda3/envs/tf_env/lib/python3.7/site-packages/keras/backend/tensorflow_backend.py:973: The name tf.assign is deprecated. Please use tf.compat.v1.assign instead.\n",
      "\n",
      "Epoch 1/80\n",
      "8000/8000 [==============================] - 8s 1ms/step - loss: 4.6717\n",
      "Epoch 2/80\n",
      "8000/8000 [==============================] - 3s 342us/step - loss: 3.4541\n",
      "Epoch 3/80\n",
      "8000/8000 [==============================] - 3s 392us/step - loss: 2.3597\n",
      "Epoch 4/80\n",
      "8000/8000 [==============================] - 3s 369us/step - loss: 1.5474\n",
      "Epoch 5/80\n",
      "8000/8000 [==============================] - 3s 346us/step - loss: 1.0333\n",
      "Epoch 6/80\n",
      "8000/8000 [==============================] - 3s 347us/step - loss: 0.7127\n",
      "Epoch 7/80\n",
      "8000/8000 [==============================] - 3s 387us/step - loss: 0.5256\n",
      "Epoch 8/80\n",
      "8000/8000 [==============================] - 3s 343us/step - loss: 0.4284\n",
      "Epoch 9/80\n",
      "8000/8000 [==============================] - 3s 332us/step - loss: 0.3458\n",
      "Epoch 10/80\n",
      "8000/8000 [==============================] - 3s 376us/step - loss: 0.3065\n",
      "Epoch 11/80\n",
      "8000/8000 [==============================] - 3s 341us/step - loss: 0.2548\n",
      "Epoch 12/80\n",
      "8000/8000 [==============================] - 3s 325us/step - loss: 0.2346\n",
      "Epoch 13/80\n",
      "8000/8000 [==============================] - 3s 317us/step - loss: 0.2193\n",
      "Epoch 14/80\n",
      "8000/8000 [==============================] - 3s 338us/step - loss: 0.1900\n",
      "Epoch 15/80\n",
      "8000/8000 [==============================] - 3s 363us/step - loss: 0.1669\n",
      "Epoch 16/80\n",
      "8000/8000 [==============================] - 3s 317us/step - loss: 0.1725\n",
      "Epoch 17/80\n",
      "8000/8000 [==============================] - 3s 320us/step - loss: 0.1469\n",
      "Epoch 18/80\n",
      "8000/8000 [==============================] - 3s 357us/step - loss: 0.1481\n",
      "Epoch 19/80\n",
      "8000/8000 [==============================] - 3s 374us/step - loss: 0.1325\n",
      "Epoch 20/80\n",
      "8000/8000 [==============================] - 3s 331us/step - loss: 0.1172\n",
      "Epoch 21/80\n",
      "8000/8000 [==============================] - 3s 325us/step - loss: 0.1080\n",
      "Epoch 22/80\n",
      "8000/8000 [==============================] - 3s 376us/step - loss: 0.1191\n",
      "Epoch 23/80\n",
      "8000/8000 [==============================] - 3s 346us/step - loss: 0.0906\n",
      "Epoch 24/80\n",
      "8000/8000 [==============================] - 3s 397us/step - loss: 0.1049\n",
      "Epoch 25/80\n",
      "8000/8000 [==============================] - 3s 404us/step - loss: 0.0942\n",
      "Epoch 26/80\n",
      "8000/8000 [==============================] - 3s 343us/step - loss: 0.0991\n",
      "Epoch 27/80\n",
      "8000/8000 [==============================] - 3s 359us/step - loss: 0.0914\n",
      "Epoch 28/80\n",
      "8000/8000 [==============================] - 3s 340us/step - loss: 0.0893\n",
      "Epoch 29/80\n",
      "8000/8000 [==============================] - 3s 365us/step - loss: 0.0893\n",
      "Epoch 30/80\n",
      "8000/8000 [==============================] - 3s 333us/step - loss: 0.0834\n",
      "Epoch 31/80\n",
      "8000/8000 [==============================] - 3s 361us/step - loss: 0.0855\n",
      "Epoch 32/80\n",
      "8000/8000 [==============================] - 3s 366us/step - loss: 0.0802\n",
      "Epoch 33/80\n",
      "8000/8000 [==============================] - 3s 380us/step - loss: 0.0679\n",
      "Epoch 34/80\n",
      "8000/8000 [==============================] - 3s 335us/step - loss: 0.0689\n",
      "Epoch 35/80\n",
      "8000/8000 [==============================] - 3s 326us/step - loss: 0.0718\n",
      "Epoch 36/80\n",
      "8000/8000 [==============================] - 3s 400us/step - loss: 0.0607\n",
      "Epoch 37/80\n",
      "8000/8000 [==============================] - 3s 372us/step - loss: 0.0601\n",
      "Epoch 38/80\n",
      "8000/8000 [==============================] - 4s 513us/step - loss: 0.0626\n",
      "Epoch 39/80\n",
      "8000/8000 [==============================] - 4s 473us/step - loss: 0.0573\n",
      "Epoch 40/80\n",
      "8000/8000 [==============================] - 4s 440us/step - loss: 0.0522\n",
      "Epoch 41/80\n",
      "8000/8000 [==============================] - 3s 398us/step - loss: 0.0518\n",
      "Epoch 42/80\n",
      "8000/8000 [==============================] - 4s 446us/step - loss: 0.0584\n",
      "Epoch 43/80\n",
      "8000/8000 [==============================] - 3s 398us/step - loss: 0.0478\n",
      "Epoch 44/80\n",
      "8000/8000 [==============================] - 4s 438us/step - loss: 0.0523\n",
      "Epoch 45/80\n",
      "8000/8000 [==============================] - 4s 495us/step - loss: 0.0573\n",
      "Epoch 46/80\n",
      "8000/8000 [==============================] - 4s 490us/step - loss: 0.0469\n",
      "Epoch 47/80\n",
      "8000/8000 [==============================] - 3s 435us/step - loss: 0.0533\n",
      "Epoch 48/80\n",
      "8000/8000 [==============================] - 3s 379us/step - loss: 0.0447\n",
      "Epoch 49/80\n",
      "8000/8000 [==============================] - 3s 398us/step - loss: 0.0513\n",
      "Epoch 50/80\n",
      "8000/8000 [==============================] - 3s 400us/step - loss: 0.0463\n",
      "Epoch 51/80\n",
      "8000/8000 [==============================] - 3s 415us/step - loss: 0.0402\n",
      "Epoch 52/80\n",
      "8000/8000 [==============================] - 3s 432us/step - loss: 0.0411\n",
      "Epoch 53/80\n",
      "8000/8000 [==============================] - 4s 497us/step - loss: 0.0406\n",
      "Epoch 54/80\n",
      "8000/8000 [==============================] - 4s 457us/step - loss: 0.0428\n",
      "Epoch 55/80\n",
      "8000/8000 [==============================] - 3s 370us/step - loss: 0.0400\n",
      "Epoch 56/80\n",
      "8000/8000 [==============================] - 3s 409us/step - loss: 0.0404\n",
      "Epoch 57/80\n",
      "8000/8000 [==============================] - 4s 455us/step - loss: 0.0365\n",
      "Epoch 58/80\n",
      "8000/8000 [==============================] - 3s 419us/step - loss: 0.0411\n",
      "Epoch 59/80\n",
      "8000/8000 [==============================] - 3s 436us/step - loss: 0.0357\n",
      "Epoch 60/80\n",
      "8000/8000 [==============================] - 3s 380us/step - loss: 0.0421\n",
      "Epoch 61/80\n",
      "8000/8000 [==============================] - 3s 412us/step - loss: 0.0386\n",
      "Epoch 62/80\n",
      "8000/8000 [==============================] - 4s 482us/step - loss: 0.0312\n",
      "Epoch 63/80\n",
      "8000/8000 [==============================] - 4s 483us/step - loss: 0.0444\n",
      "Epoch 64/80\n",
      "8000/8000 [==============================] - 3s 401us/step - loss: 0.0332\n",
      "Epoch 65/80\n",
      "8000/8000 [==============================] - 3s 377us/step - loss: 0.0326\n",
      "Epoch 66/80\n",
      "8000/8000 [==============================] - 3s 398us/step - loss: 0.0313\n",
      "Epoch 67/80\n",
      "8000/8000 [==============================] - 3s 391us/step - loss: 0.0322\n",
      "Epoch 68/80\n",
      "8000/8000 [==============================] - 3s 374us/step - loss: 0.0351\n",
      "Epoch 69/80\n",
      "8000/8000 [==============================] - 3s 358us/step - loss: 0.0297\n",
      "Epoch 70/80\n",
      "8000/8000 [==============================] - 3s 371us/step - loss: 0.0328\n",
      "Epoch 71/80\n",
      "8000/8000 [==============================] - 3s 386us/step - loss: 0.0289\n",
      "Epoch 72/80\n",
      "8000/8000 [==============================] - 3s 400us/step - loss: 0.0290\n",
      "Epoch 73/80\n",
      "8000/8000 [==============================] - 3s 437us/step - loss: 0.0318\n",
      "Epoch 74/80\n",
      "8000/8000 [==============================] - 3s 387us/step - loss: 0.0381\n",
      "Epoch 75/80\n",
      "8000/8000 [==============================] - 3s 399us/step - loss: 0.0319\n",
      "Epoch 76/80\n",
      "8000/8000 [==============================] - 4s 461us/step - loss: 0.0274\n",
      "Epoch 77/80\n",
      "8000/8000 [==============================] - 4s 467us/step - loss: 0.0275\n",
      "Epoch 78/80\n",
      "8000/8000 [==============================] - 3s 394us/step - loss: 0.0323\n",
      "Epoch 79/80\n",
      "8000/8000 [==============================] - 3s 340us/step - loss: 0.0267\n",
      "Epoch 80/80\n",
      "8000/8000 [==============================] - 3s 319us/step - loss: 0.0241\n"
     ]
    }
   ],
   "source": [
    "# traning auto encoder\n",
    "hist=autoencoder_des.fit(data, data,\n",
    "                epochs=80,\n",
    "                batch_size=50)"
   ]
  },
  {
   "cell_type": "code",
   "execution_count": 16,
   "metadata": {},
   "outputs": [],
   "source": [
    "# saving autoencoder phase two\n",
    "# HDF5 file, you have to pip3 install h5py if don't have it\n",
    "import h5py\n",
    "encode_RD.save('encode_RD.h5')\n",
    "decoder_D.save('decoder_D.h5')"
   ]
  },
  {
   "cell_type": "code",
   "execution_count": 17,
   "metadata": {},
   "outputs": [],
   "source": [
    "# generating data for checking BLER\n",
    "N = 1*10**5\n",
    "test_label = np.random.randint(M,size=N)\n",
    "test_data = []\n",
    "\n",
    "for i in test_label:\n",
    "    temp = np.zeros(M)\n",
    "    temp[i] = 1\n",
    "    test_data.append(temp)\n",
    "    \n",
    "test_data = np.array(test_data)"
   ]
  },
  {
   "cell_type": "code",
   "execution_count": 18,
   "metadata": {},
   "outputs": [
    {
     "name": "stdout",
     "output_type": "stream",
     "text": [
      "1.0 162\n"
     ]
    }
   ],
   "source": [
    "# checking generated data\n",
    "temp_test = 6\n",
    "print (test_data[temp_test][test_label[temp_test]],test_label[temp_test])"
   ]
  },
  {
   "cell_type": "code",
   "execution_count": 19,
   "metadata": {},
   "outputs": [],
   "source": [
    "def frange(x, y, jump):\n",
    "  while x < y:\n",
    "    yield x\n",
    "    x += jump"
   ]
  },
  {
   "cell_type": "code",
   "execution_count": 20,
   "metadata": {
    "scrolled": true
   },
   "outputs": [
    {
     "name": "stdout",
     "output_type": "stream",
     "text": [
      "SNR: -2 BLER: 0.58544\n",
      "SNR: 0 BLER: 0.30816\n",
      "SNR: 2 BLER: 0.09177\n",
      "SNR: 4 BLER: 0.01198\n",
      "SNR: 6 BLER: 0.00053\n",
      "SNR: 8 BLER: 0.0\n"
     ]
    }
   ],
   "source": [
    "# calculating BLER\n",
    "EbNodB_range = list(frange(-2,8.5,2))\n",
    "bler = [None]*len(EbNodB_range)\n",
    "for n in range(0,len(EbNodB_range)):\n",
    "    EbNo=10.0**(EbNodB_range[n]/10.0)\n",
    "    noise_std = np.sqrt(1/(2*R*EbNo))\n",
    "    noise_mean = 0\n",
    "    no_errors = 0\n",
    "    nn = N\n",
    "    noise_SR = noise_std * np.random.randn(nn,n_channel)\n",
    "    encoded_signal = encoder_SR.predict(test_data) \n",
    "    # S-R link detection\n",
    "    SR_signal = encoded_signal + noise_SR\n",
    "    decode_output_R = decoder_SR.predict(SR_signal)\n",
    "    encoded_signal_RD = encode_RD.predict(decode_output_R)\n",
    "#     pred_relay_signal =  decoder_SR.predict(SR_signal)\n",
    "#     pred_index_relay = np.argmax(pred_relay_signal,axis=1)\n",
    "#     onehot_relay = np.zeros(M)\n",
    "#     onehot_relay[pred_index_relay] = 1 # onehot transmitted by the relay\n",
    "    \n",
    "    noise_SD = noise_std * np.random.randn(nn,n_channel)\n",
    "    noise_RD = noise_std * np.random.randn(nn,n_channel)\n",
    "    SD_signal = encoded_signal + noise_SD\n",
    "#     encoded_signal_RD = encoder_RD.predict(onehot_relay)\n",
    "    RD_signal = encoded_signal_RD + noise_RD\n",
    "    \n",
    "    pred_final_signal =  decoder_D.predict([SD_signal, RD_signal])\n",
    "    pred_output = np.argmax(pred_final_signal,axis=1)\n",
    "    \n",
    "    no_errors = (pred_output != test_label) # !! calculate the error, for 2by1 MIMO, a pair of (x1,x2)\n",
    "    no_errors =  no_errors.astype(int).sum()\n",
    "    bler[n] = no_errors / nn \n",
    "    print ('SNR:',EbNodB_range[n],'BLER:',bler[n])\n",
    "    # use below line for generating matlab like matrix which can be copy and paste for plotting ber graph in matlab\n",
    "    #print(bler[n], \" \",end='')"
   ]
  },
  {
   "cell_type": "code",
   "execution_count": null,
   "metadata": {},
   "outputs": [],
   "source": [
    "# ploting bler curve\n",
    "# save(ber, 'BLER_aotuencoder')\n",
    "np.savetxt('BLER-AE-ROB.txt', bler)\n",
    "import matplotlib.pyplot as plt\n",
    "from scipy import interpolate\n",
    "plt.plot(EbNodB_range, bler, 'bo',label='Autoencoder-relay')\n",
    "plt.yscale('log')\n",
    "plt.xlabel('SNR (dB)')\n",
    "plt.ylabel('BLER')\n",
    "plt.grid()\n",
    "plt.legend(loc='upper right',ncol = 1)"
   ]
  },
  {
   "cell_type": "code",
   "execution_count": null,
   "metadata": {},
   "outputs": [],
   "source": []
  }
 ],
 "metadata": {
  "anaconda-cloud": {},
  "kernelspec": {
   "display_name": "Python 3",
   "language": "python",
   "name": "python3"
  },
  "language_info": {
   "codemirror_mode": {
    "name": "ipython",
    "version": 3
   },
   "file_extension": ".py",
   "mimetype": "text/x-python",
   "name": "python",
   "nbconvert_exporter": "python",
   "pygments_lexer": "ipython3",
   "version": "3.7.6"
  }
 },
 "nbformat": 4,
 "nbformat_minor": 2
}
